{
 "cells": [
  {
   "cell_type": "markdown",
   "id": "2aa2a242",
   "metadata": {},
   "source": [
    "# Zum Aufwärmen\n",
    "\n",
    "Erstellen Sie **a)** ein NumPy-Array mit folgendem Inhalt:\n",
    "\n",
    "````python\n",
    "array([1, 2, 3, 4, 5, 6, 7, 8, 9])\n",
    "````"
   ]
  },
  {
   "cell_type": "code",
   "id": "5b4f9935",
   "metadata": {
    "ExecuteTime": {
     "end_time": "2025-01-08T06:39:00.686097Z",
     "start_time": "2025-01-08T06:39:00.596342Z"
    }
   },
   "source": [
    "import numpy as np\n",
    "\n",
    "data = np.arange(1,19)\n"
   ],
   "outputs": [],
   "execution_count": 2
  },
  {
   "cell_type": "markdown",
   "id": "23042df4",
   "metadata": {},
   "source": [
    "**b)** Ändern Sie die Gestalt des Arrays in eine 3x6-Matrix, sodass das Ergebnis so aussieht:\n",
    "    \n",
    "````python\n",
    "array([[ 1,  2,  3,  4,  5,  6],\n",
    "       [ 7,  8,  9, 10, 11, 12],\n",
    "       [13, 14, 15, 16, 17, 18]])\n",
    "````\n",
    "**Hinweis**: Schneiden Sie das Array so zu, dass es für eine 3x6-Gestalt passt."
   ]
  },
  {
   "cell_type": "code",
   "id": "d32d82ba",
   "metadata": {
    "ExecuteTime": {
     "end_time": "2025-01-08T06:39:06.498812Z",
     "start_time": "2025-01-08T06:39:06.492744Z"
    }
   },
   "source": "data = data.reshape(3,6)",
   "outputs": [],
   "execution_count": 3
  },
  {
   "cell_type": "markdown",
   "id": "fff94079",
   "metadata": {},
   "source": [
    "**c)** Zeigen Sie, dass die Shape `(3, 6)` ist."
   ]
  },
  {
   "cell_type": "code",
   "id": "7b281f4e",
   "metadata": {
    "ExecuteTime": {
     "end_time": "2024-12-05T14:28:21.205083Z",
     "start_time": "2024-12-05T14:28:21.194048Z"
    }
   },
   "source": "data.shape",
   "outputs": [
    {
     "data": {
      "text/plain": [
       "(3, 6)"
      ]
     },
     "execution_count": 13,
     "metadata": {},
     "output_type": "execute_result"
    }
   ],
   "execution_count": 13
  },
  {
   "cell_type": "markdown",
   "id": "805bc7a6",
   "metadata": {},
   "source": [
    "**d)** Berechnen Sie die Summe jeder Spalte. Das Ergebnis sollte ein Array mit sechs Werten sein:\n",
    "\n",
    "````python\n",
    "array([21, 24, 27, 30, 33, 36])\n",
    "````\n",
    "\n",
    "**Hinweis**: `axis` is your friend!"
   ]
  },
  {
   "cell_type": "code",
   "id": "2d7d4f69",
   "metadata": {
    "ExecuteTime": {
     "end_time": "2025-01-08T06:39:13.253239Z",
     "start_time": "2025-01-08T06:39:13.242023Z"
    }
   },
   "source": "data.sum(1)",
   "outputs": [
    {
     "data": {
      "text/plain": [
       "array([21, 57, 93])"
      ]
     },
     "execution_count": 5,
     "metadata": {},
     "output_type": "execute_result"
    }
   ],
   "execution_count": 5
  },
  {
   "cell_type": "markdown",
   "id": "5f5350f6",
   "metadata": {},
   "source": [
    "**e)** Erstellen Sie aus dem ursprünglichen Array ein 3D-Array. Schneiden Sie dafür ggf. Werte weg. Das Ergebnis sollte so aussehen:\n",
    "\n",
    "````python\n",
    "array([[[ 1,  2,  3],\n",
    "        [ 4,  5,  6]],\n",
    "       \n",
    "       [[ 7,  8,  9],\n",
    "        [10, 11, 12]],\n",
    "       \n",
    "       [[13, 14, 15],\n",
    "        [16, 17, 18]]])\n",
    "````"
   ]
  },
  {
   "cell_type": "code",
   "id": "fd759ac9",
   "metadata": {
    "ExecuteTime": {
     "end_time": "2025-01-08T06:39:40.902283Z",
     "start_time": "2025-01-08T06:39:40.896182Z"
    }
   },
   "source": [
    "data = data.flatten()\n",
    "data = data.reshape(3,2,3)\n",
    "data"
   ],
   "outputs": [
    {
     "data": {
      "text/plain": [
       "array([[[ 1,  2,  3],\n",
       "        [ 4,  5,  6]],\n",
       "\n",
       "       [[ 7,  8,  9],\n",
       "        [10, 11, 12]],\n",
       "\n",
       "       [[13, 14, 15],\n",
       "        [16, 17, 18]]])"
      ]
     },
     "execution_count": 6,
     "metadata": {},
     "output_type": "execute_result"
    }
   ],
   "execution_count": 6
  }
 ],
 "metadata": {
  "kernelspec": {
   "display_name": "Python 3 (ipykernel)",
   "language": "python",
   "name": "python3"
  },
  "language_info": {
   "codemirror_mode": {
    "name": "ipython",
    "version": 3
   },
   "file_extension": ".py",
   "mimetype": "text/x-python",
   "name": "python",
   "nbconvert_exporter": "python",
   "pygments_lexer": "ipython3",
   "version": "3.11.5"
  }
 },
 "nbformat": 4,
 "nbformat_minor": 5
}
