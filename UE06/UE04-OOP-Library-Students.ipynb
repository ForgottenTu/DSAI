{
 "cells": [
  {
   "cell_type": "markdown",
   "id": "7b984520",
   "metadata": {},
   "source": [
    "# OOP-Aufgabe: Buchverleih mit Lesestatistik\n",
    "\n",
    "Implementiere ein einfaches **Bibliotheksverwaltungssystem**, bei dem zusätzlich **Statistiken** über die Ausleihe bereitgestellt werden. \n",
    "\n",
    "## Aufgabenstellung im Detail\n",
    "\n",
    "Die Bibliothek (Klasse `Library`) enthält eine Sammlung von Büchern (Klasse `Book`), und jedes Buch kann von Leser:innen ausgeliehen werden. Setze folgende Anforderungen um:\n",
    "\n",
    "## Klassenstruktur\n",
    "\n",
    "- **Klasse `Book`**:\n",
    "  - **Attribute**:\n",
    "    - `title`: Der Titel des Buches\n",
    "    - `author`: Der Autor des Buches\n",
    "    - `genre`: Das Genre des Buches\n",
    "    - `borrow_count`: Zählt, wie oft das Buch ausgeliehen wurde\n",
    "  - **Methoden**:\n",
    "    - `borrow()`: Erhöht den Ausleihzähler `borrow_count` um 1\n",
    "    - `get_info()`: Gibt den Titel, Autor und das Genre des Buches zurück\n",
    "\n",
    "- **Klasse `Library`**:\n",
    "  - **Attribute**:\n",
    "    - `books`: Eine Liste von `Book`-Objekten, die die Sammlung der Bibliothek darstellen\n",
    "  - **Methoden**:\n",
    "    - `add_book(book)`: Fügt ein Buch zur Sammlung hinzu\n",
    "    - `list_books()`: Listet alle Bücher in der Bibliothek auf\n",
    "    - `most_borrowed_books()`: Gibt eine Liste der Bücher zurück, die am häufigsten ausgeliehen wurden. Wenn mehrere Bücher die gleiche Anzahl an Ausleihen haben, werden alle als Liste ausgegeben.\n",
    "\n",
    "- **Klasse `LibraryStatistics`**:\n",
    "  - Diese Klasse wird für die Datenanalyse verwendet.\n",
    "  - **Methoden**:\n",
    "    - `average_borrow_count(library)`: Berechnet und gibt die durchschnittliche Anzahl der Ausleihen über alle Bücher in der Bibliothek zurück. Falls keine Bücher vorhanden sind, wird 0 zurückgegeben.\n",
    "\n",
    "\n",
    "**Folgende Funktionen könnten bei der Umsetzung überaus hilfreich sein:**\n",
    "- max(): https://www.programiz.com/python-programming/methods/built-in/max\n",
    "- sum(): https://www.programiz.com/python-programming/methods/built-in/sum"
   ]
  },
  {
   "cell_type": "code",
   "id": "070ecc50",
   "metadata": {
    "ExecuteTime": {
     "end_time": "2024-11-14T15:12:19.413814Z",
     "start_time": "2024-11-14T15:12:19.407631Z"
    }
   },
   "source": [
    "\n",
    "\n",
    "# Your code...\n",
    "class Book:\n",
    "    title = \"\"\n",
    "    author = \"\"\n",
    "    genre = \"\"\n",
    "    borrow_count = 0\n",
    "    \n",
    "    def __init__(self, title, author, genre):\n",
    "        self.title = title\n",
    "        self.author = author\n",
    "        self.genre = genre\n",
    "    \n",
    "    def borrow(self):\n",
    "        self.borrow_count =+ 1\n",
    "        \n",
    "    def get_info(self):\n",
    "        \n",
    "        return self.title,self.genre,self.author\n",
    "    \n",
    "class Library:\n",
    "    books = []\n",
    "    \n",
    "    def list_books(self):\n",
    "        return self.books\n",
    "        \n",
    "    def add_book(self, book):\n",
    "        self.books.append(book)\n",
    "        \n",
    "    def most_borrowed_books(self):\n",
    "        most_borrowed = max([book.borrow_count for book in self.books])\n",
    "        return [book for book in self.books if book.borrow_count >= most_borrowed]\n",
    "        \n",
    "        \n",
    "class LibraryStatistics:\n",
    "    @staticmethod\n",
    "    def average_borrow_count(library:Library):\n",
    "        \n",
    "        borrowcount = sum(book.borrow_count for book in library.books)\n",
    "        return borrowcount / len(library.books)\n",
    "    "
   ],
   "outputs": [],
   "execution_count": 34
  },
  {
   "cell_type": "code",
   "id": "312d2fb4",
   "metadata": {
    "ExecuteTime": {
     "end_time": "2024-11-14T15:12:21.236124Z",
     "start_time": "2024-11-14T15:12:21.229944Z"
    }
   },
   "source": [
    "# Some tests...\n",
    "\n",
    "library = Library()\n",
    "\n",
    "book1 = Book(\"Python Data Science Handbook\", \"Jake VanderPlas\", \"Data Science\")\n",
    "book2 = Book(\"Hands-On Machine Learning with Scikit-Learn, Keras, and TensorFlow\", \"Aurélien Géron\", \"Machine Learning\")\n",
    "book3 = Book(\"Data Science for Business\", \"Foster Provost & Tom Fawcett\", \"Data Science\")\n",
    "\n",
    "library.add_book(book1)\n",
    "library.add_book(book2)\n",
    "library.add_book(book3)\n",
    "\n",
    "book1.borrow()\n",
    "book1.borrow()\n",
    "book2.borrow()\n",
    "book3.borrow()\n",
    "book3.borrow()\n",
    "book3.borrow()\n",
    "\n",
    "print(\"Liste der Bücher in der Bibliothek:\")\n",
    "library.list_books()\n",
    "\n",
    "print(\"\\nMeist ausgeliehenes Buch:\")\n",
    "for book in library.most_borrowed_books():\n",
    "    print(book.get_info())\n",
    "\n",
    "print(\"\\nDurchschnittliche Ausleihen pro Buch:\")\n",
    "print(LibraryStatistics.average_borrow_count(library))\n"
   ],
   "outputs": [
    {
     "name": "stdout",
     "output_type": "stream",
     "text": [
      "Liste der Bücher in der Bibliothek:\n",
      "\n",
      "Meist ausgeliehenes Buch:\n",
      "('Python Data Science Handbook', 'Data Science', 'Jake VanderPlas')\n",
      "('Hands-On Machine Learning with Scikit-Learn, Keras, and TensorFlow', 'Machine Learning', 'Aurélien Géron')\n",
      "('Data Science for Business', 'Data Science', 'Foster Provost & Tom Fawcett')\n",
      "\n",
      "Durchschnittliche Ausleihen pro Buch:\n",
      "1.0\n"
     ]
    }
   ],
   "execution_count": 35
  },
  {
   "cell_type": "markdown",
   "id": "34b45c5f",
   "metadata": {},
   "source": [
    "**Erwartete Ausgabe:**\n",
    "\n",
    "````text\n",
    "Liste der Bücher in der Bibliothek:\n",
    "'Python Data Science Handbook' by Jake VanderPlas, Genre: Data Science\n",
    "'Hands-On Machine Learning with Scikit-Learn, Keras, and TensorFlow' by Aurélien Géron, Genre: Machine Learning\n",
    "'Data Science for Business' by Foster Provost & Tom Fawcett, Genre: Data Science\n",
    "\n",
    "Meist ausgeliehenes Buch:\n",
    "'Data Science for Business' by Foster Provost & Tom Fawcett, Genre: Data Science\n",
    "\n",
    "Durchschnittliche Ausleihen pro Buch:\n",
    "2.0\n",
    "````"
   ]
  }
 ],
 "metadata": {
  "kernelspec": {
   "display_name": "Python 3 (ipykernel)",
   "language": "python",
   "name": "python3"
  },
  "language_info": {
   "codemirror_mode": {
    "name": "ipython",
    "version": 3
   },
   "file_extension": ".py",
   "mimetype": "text/x-python",
   "name": "python",
   "nbconvert_exporter": "python",
   "pygments_lexer": "ipython3",
   "version": "3.11.5"
  }
 },
 "nbformat": 4,
 "nbformat_minor": 5
}
