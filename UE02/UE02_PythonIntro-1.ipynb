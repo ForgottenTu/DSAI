{
 "cells": [
  {
   "cell_type": "markdown",
   "id": "ec9c8e46",
   "metadata": {},
   "source": [
    "# UE02 Python Einführung I - Aufgaben\n",
    "Arbeiten Sie nachfolgenden Aufgabenstellungen durch und geben Sie das Notebook via Repo (im entsprechenden Ordner) ab."
   ]
  },
  {
   "cell_type": "markdown",
   "id": "05bf5963-55d5-48f3-a31b-9044083d19f7",
   "metadata": {},
   "source": [
    "## Variablen, Strings und String-Operationen\n",
    "### Task 2.1\n",
    "Macht es einen Unterschied, ob man einfache oder doppelte Anführungsstriche verwendet? Erzeugen Sie mit <code>print(...)</code> folgende Ausgabe : **Now, I'm able to use 'print'!**"
   ]
  },
  {
   "cell_type": "code",
   "execution_count": 6,
   "id": "1712d875-7f4f-444f-be29-51f4e7241bea",
   "metadata": {},
   "outputs": [
    {
     "name": "stdout",
     "output_type": "stream",
     "text": [
      "Now, I'm able to use 'print'\n"
     ]
    }
   ],
   "source": [
    "print(\"Now, I'm able to use 'print'!\")"
   ]
  },
  {
   "cell_type": "markdown",
   "id": "c8133d3d",
   "metadata": {},
   "source": [
    "### Task 2.2\n",
    "Definiere drei Variablen, die deinen Namen, dein Alter und deinen Lieblingssport speichern. Gib dann alle Variablen in einer einzigen `print()`-Anweisung aus. gesuchtes Ergebnis:\n",
    "\n",
    "```python\n",
    "Name: Joe, Alter: 22, Sport: Tennis\n",
    "```"
   ]
  },
  {
   "cell_type": "code",
   "execution_count": 12,
   "id": "bcfcb3c2",
   "metadata": {
    "tags": []
   },
   "outputs": [
    {
     "name": "stdout",
     "output_type": "stream",
     "text": [
      "Name: Julian, Alter: 17, Sport: Handball\n"
     ]
    }
   ],
   "source": [
    "name = \"Julian\"\n",
    "age = 17\n",
    "sport = \"Handball\"\n",
    "\n",
    "print(f'Name: {name}, Alter: {age}, Sport: {sport}')"
   ]
  },
  {
   "cell_type": "markdown",
   "id": "b463c29c-68d8-4d5f-b2d2-670261de0240",
   "metadata": {},
   "source": [
    "### Task 2.3\n",
    "Nehmen Sie https://docs.python.org/3.8/tutorial/introduction.html#strings durch, und zwar ab \"*Strings can be indexed...*\". Als Bearbeitungsgrundlage dient der Text in <code>show</code>:\n",
    "1. Geben Sie den zweiten Buchstaben der Zeichenkette aus\n",
    "2. Geben Sie das Wort **eating** aus\n",
    "3. Geben Sie alles nach **Software** aus\n",
    "4. Geben Sie alles vor **the** aus\n",
    "5. Geben Sie die letzten 3 Buchstaben der Zeichenkette aus"
   ]
  },
  {
   "cell_type": "code",
   "id": "4e41acec-ba44-498c-badf-d35d1ff636d1",
   "metadata": {
    "tags": [],
    "ExecuteTime": {
     "end_time": "2024-11-05T22:25:36.066693Z",
     "start_time": "2024-11-05T22:25:36.043016Z"
    }
   },
   "source": [
    "show = \"Software is eating the world!\"\n",
    "\n",
    "print(show[1])\n",
    "\n",
    "print(show[12:18])\n",
    "\n",
    "print(show[:8])\n",
    "\n",
    "print(show[19:22])\n",
    "print(show[25:28])"
   ],
   "outputs": [
    {
     "name": "stdout",
     "output_type": "stream",
     "text": [
      "o\n",
      "eating\n",
      "Software\n",
      "the\n",
      "rld\n"
     ]
    }
   ],
   "execution_count": 1
  },
  {
   "cell_type": "markdown",
   "id": "8008b946",
   "metadata": {},
   "source": [
    "## Mathematische Operationen\n",
    "### Task 2.4\n",
    "Berechne den Umfang eines Rechtecks. Speichere die Länge und Breite in zwei Variablen und berechne dann den Umfang. Gib das Ergebnis aus. Gesuchtes Ergebnis; wobei für den Umfang beliebige werte gewählt werden können:\n",
    "````python\n",
    "Der Umfang des Rechtecks beträgt: 30\n",
    "````"
   ]
  },
  {
   "cell_type": "code",
   "execution_count": null,
   "id": "7e7aca2e",
   "metadata": {
    "tags": []
   },
   "outputs": [],
   "source": [
    "a = 6\n",
    "b = 5\n",
    "\n",
    "print(f\"Der Umfang des Rechtecks beträgt: {2*(a*b)}!\")"
   ]
  },
  {
   "cell_type": "markdown",
   "id": "41405e5c",
   "metadata": {},
   "source": [
    "### Task 2.5"
   ]
  },
  {
   "cell_type": "markdown",
   "id": "40a2051c",
   "metadata": {},
   "source": [
    "Schreibe jenen Code, der die Quadrate von drei Zahlen (siehe `a`, `b` und `c`) errechnet und in `sum_of_squares` speichert. Exemplarisches Ergebnis:\n",
    "```python\n",
    "Die Summe der Quadrate von 2, 3 und 4 beträgt: 29\n",
    "```"
   ]
  },
  {
   "cell_type": "code",
   "execution_count": null,
   "id": "49c703d0",
   "metadata": {
    "tags": []
   },
   "outputs": [],
   "source": [
    "a = 4\n",
    "b= 10\n",
    "c = 1230\n",
    " \n",
    "sum_of_squares = a ** 2 + b ** 2 + c ** 2\n",
    "\n",
    "print(f\"Die Summe der Quadrate von {a}, {b} und {c} beträgt: {sum_of_squares}!\")"
   ]
  },
  {
   "cell_type": "markdown",
   "id": "51d8ba58",
   "metadata": {},
   "source": [
    "## Control Flow - Conditional Statements\n",
    "### Task 2.6"
   ]
  },
  {
   "cell_type": "markdown",
   "id": "62517622",
   "metadata": {},
   "source": [
    "Schreibe ein Programm, das überprüft, ob eine Zahl gerade oder ungerade ist. Verwende eine If-Bedingung, um die Ausgabe entsprechend zu gestalten."
   ]
  },
  {
   "cell_type": "code",
   "execution_count": 32,
   "id": "c73587e8",
   "metadata": {},
   "outputs": [
    {
     "name": "stdin",
     "output_type": "stream",
     "text": [
      " 5\n"
     ]
    },
    {
     "name": "stdout",
     "output_type": "stream",
     "text": [
      "a ist ungerade\n"
     ]
    }
   ],
   "source": [
    "a = int(input())\n",
    "\n",
    "if(a % 2 == 0):\n",
    "    print(\"a ist gerade\")\n",
    "else:\n",
    "    print(\"a ist ungerade\")"
   ]
  },
  {
   "cell_type": "markdown",
   "id": "95b28a4d",
   "metadata": {},
   "source": [
    "### Task 2.7\n",
    "Schreibe ein Programm, das überprüft, ob eine gegebene Zahl positiv, negativ oder null ist."
   ]
  },
  {
   "cell_type": "code",
   "execution_count": 52,
   "id": "9a4096da",
   "metadata": {},
   "outputs": [
    {
     "name": "stdin",
     "output_type": "stream",
     "text": [
      " -10\n"
     ]
    },
    {
     "name": "stdout",
     "output_type": "stream",
     "text": [
      "-10 + ist negativ\n"
     ]
    }
   ],
   "source": [
    "a = int(input())\n",
    "if(a > 0):\n",
    "    print(f\" {a} ist positiv\")\n",
    "elif(a == 0):\n",
    "    print(a)\n",
    "else:\n",
    "    print(f\"{a} ist negativ\")"
   ]
  },
  {
   "cell_type": "markdown",
   "id": "9bad5124",
   "metadata": {},
   "source": [
    "### Task 2.8"
   ]
  },
  {
   "cell_type": "markdown",
   "id": "872afc50",
   "metadata": {},
   "source": [
    "Schreibe jenen Code, der den Benutzer nach zwei Zahlen fragt und überprüft, ob die erste Zahl ein Vielfaches der zweiten ist. **Hinweise**: \n",
    "- Der Modulo-Operator is your friend!\n",
    "- Für User-Eingaben braucht es `input`"
   ]
  },
  {
   "cell_type": "code",
   "execution_count": 66,
   "id": "2c3d1596",
   "metadata": {},
   "outputs": [
    {
     "name": "stdin",
     "output_type": "stream",
     "text": [
      " 12345678901234567812345671234678123456789\n",
      " 45\n"
     ]
    },
    {
     "name": "stdout",
     "output_type": "stream",
     "text": [
      " 12345678901234567812345671234678123456789 ist kein Vielfaches von 45\n"
     ]
    }
   ],
   "source": [
    "a = int(input())\n",
    "b = int(input())\n",
    "if( a % b == 0):\n",
    "    print(f\" {a} ist ein Vielfaches von {b}\")\n",
    "else:\n",
    "    print(f\" {a} ist kein Vielfaches von {b}\")"
   ]
  },
  {
   "cell_type": "markdown",
   "id": "39b7abfc",
   "metadata": {},
   "source": [
    "## Looping / Iterators\n",
    "### Task 2.9\n",
    "Gebe die Zahlen von 1 bis 10 mit Hilfe einer Iteration aus. **Hinweis**: `range` https://docs.python.org/2/library/functions.html#range is your friend!"
   ]
  },
  {
   "cell_type": "code",
   "execution_count": 70,
   "id": "f7732713",
   "metadata": {
    "tags": []
   },
   "outputs": [
    {
     "name": "stdout",
     "output_type": "stream",
     "text": [
      "1\n",
      "2\n",
      "3\n",
      "4\n",
      "5\n",
      "6\n",
      "7\n",
      "8\n",
      "9\n",
      "10\n"
     ]
    }
   ],
   "source": [
    "for i in range(1, 11):\n",
    "    print(i)"
   ]
  },
  {
   "cell_type": "markdown",
   "id": "36892dbe",
   "metadata": {},
   "source": [
    "### Task 2.10\n",
    "Implementiere eine Schleife, die die Summe der Zahlen von 1 bis 100 berechnet."
   ]
  },
  {
   "cell_type": "code",
   "execution_count": 82,
   "id": "b98f1240",
   "metadata": {},
   "outputs": [
    {
     "name": "stdout",
     "output_type": "stream",
     "text": [
      "4950\n"
     ]
    }
   ],
   "source": [
    "sum = 0\n",
    "\n",
    "for i in range(1,100):\n",
    "    sum += i\n",
    "\n",
    "print(sum)"
   ]
  },
  {
   "cell_type": "markdown",
   "id": "2cfde69a",
   "metadata": {},
   "source": [
    "## Lists"
   ]
  },
  {
   "cell_type": "markdown",
   "id": "8a4e35ef",
   "metadata": {},
   "source": [
    "### Task 2.11\n",
    "Erstelle eine Liste mit den Zahlen 1 bis 5 und gib die Liste aus."
   ]
  },
  {
   "cell_type": "code",
   "execution_count": 90,
   "id": "f46e9472",
   "metadata": {
    "tags": []
   },
   "outputs": [
    {
     "name": "stdout",
     "output_type": "stream",
     "text": [
      "1\n",
      "2\n",
      "3\n",
      "4\n",
      "5\n"
     ]
    }
   ],
   "source": [
    "nums = [1,2,3,4,5]\n",
    "\n",
    "for num in nums:\n",
    "    print(num)"
   ]
  },
  {
   "cell_type": "markdown",
   "id": "86fd30f0",
   "metadata": {},
   "source": [
    "### Task 2.12 \n",
    "Füge ein neues Element zur Liste hinzu und gib die aktualisierte Liste aus."
   ]
  },
  {
   "cell_type": "code",
   "execution_count": 100,
   "id": "7918b6ac",
   "metadata": {
    "tags": []
   },
   "outputs": [
    {
     "name": "stdout",
     "output_type": "stream",
     "text": [
      "1\n",
      "2\n",
      "3\n",
      "4\n",
      "5\n",
      "\n",
      "[1, 2, 3, 4, 5, 6]\n",
      "[1, 2, 3, 4, 5, 6]\n",
      "[1, 2, 3, 4, 5, 6]\n",
      "[1, 2, 3, 4, 5, 6]\n",
      "[1, 2, 3, 4, 5, 6]\n",
      "[1, 2, 3, 4, 5, 6]\n"
     ]
    }
   ],
   "source": [
    "nums = [1,2,3,4,5]\n",
    "print(nums[i])\n",
    "\n",
    "print()\n",
    "nums.append(6)\n",
    "print(nums)"
   ]
  },
  {
   "cell_type": "markdown",
   "id": "7407f8a8-9d31-4017-93f7-d8624fd99670",
   "metadata": {},
   "source": [
    "### Task 2.13 \n",
    "Lösche den Listeneintrag \"Sue\" durch Angabe des Indexes und entferne den Eintrag \"Kim\" anhand seines Wertes."
   ]
  },
  {
   "cell_type": "code",
   "id": "e007d200-f9cb-44c1-b51f-b47252001e2f",
   "metadata": {
    "tags": [],
    "jupyter": {
     "is_executing": true
    }
   },
   "source": [
    "names = [\"Max\", \"Sue\", \"Kim\", \"Joe\"]\n",
    "\n",
    "print(names.pop(1))\n",
    "print([name for name in names if name == \"Kim\" in name].pop())"
   ],
   "outputs": [],
   "execution_count": null
  },
  {
   "cell_type": "markdown",
   "id": "f4f54e33",
   "metadata": {},
   "source": [
    "### Task 2.14\n",
    "Iterieren über die Liste `data` und fügen Sie hierbei alle geraden Einträge der neu zu erstellenden Liste `even_data` und alle ungeraden der Liste `odd_data` hinzu."
   ]
  },
  {
   "cell_type": "code",
   "id": "f7be996a-7f5a-4454-bfbd-14a2e64768ac",
   "metadata": {
    "tags": [],
    "jupyter": {
     "is_executing": true
    }
   },
   "source": [
    "data = [1,2,3,4,5,6,7,8,9,10]\n",
    "even_data = []\n",
    "odd_data = []\n",
    "\n",
    "for i in data:\n",
    "    if(i %2):\n",
    "        odd_data.append(i)\n",
    "    else:\n",
    "        even_data.append(i)\n",
    "        \n",
    "print(even_data)\n",
    "print(odd_data)"
   ],
   "outputs": [],
   "execution_count": null
  },
  {
   "cell_type": "markdown",
   "id": "d0bfe169",
   "metadata": {},
   "source": [
    "## Dictionaries\n",
    "### Task 2.15\n",
    "Erstelle das Dictionary `people`, das die Namen (=Key) und Alter (=Value) von drei Personen speichert. Gib das Dictionary aus. Beispielhaftes Ergebnis:\n",
    "````python\n",
    "{'Max': 22, 'Anna': 25, 'Tom': 30}\n",
    "````"
   ]
  },
  {
   "cell_type": "markdown",
   "id": "9b697a61",
   "metadata": {},
   "source": [
    "### Task 2.16\n",
    "Füge eine neue Person zum Dictionary hinzu und gib das aktualisierte Dictionary aus."
   ]
  },
  {
   "metadata": {
    "ExecuteTime": {
     "end_time": "2024-11-06T06:41:33.779712Z",
     "start_time": "2024-11-06T06:41:33.765353Z"
    }
   },
   "cell_type": "code",
   "source": [
    "numbers = [1, 2, 3]\n",
    "\n",
    "print([number * 2 for number in numbers ])"
   ],
   "id": "1afcf4178167b757",
   "outputs": [
    {
     "name": "stdout",
     "output_type": "stream",
     "text": [
      "[2, 4, 6]\n"
     ]
    }
   ],
   "execution_count": 1
  },
  {
   "metadata": {
    "ExecuteTime": {
     "end_time": "2024-11-06T06:42:04.773110Z",
     "start_time": "2024-11-06T06:42:04.746618Z"
    }
   },
   "cell_type": "code",
   "source": "help(quit())",
   "id": "3a2c5734fab36f48",
   "outputs": [
    {
     "name": "stdout",
     "output_type": "stream",
     "text": [
      "Help on NoneType object:\n",
      "\n",
      "class NoneType(object)\n",
      " |  Methods defined here:\n",
      " |\n",
      " |  __bool__(self, /)\n",
      " |      True if self else False\n",
      " |\n",
      " |  __eq__(self, value, /)\n",
      " |      Return self==value.\n",
      " |\n",
      " |  __ge__(self, value, /)\n",
      " |      Return self>=value.\n",
      " |\n",
      " |  __gt__(self, value, /)\n",
      " |      Return self>value.\n",
      " |\n",
      " |  __hash__(self, /)\n",
      " |      Return hash(self).\n",
      " |\n",
      " |  __le__(self, value, /)\n",
      " |      Return self<=value.\n",
      " |\n",
      " |  __lt__(self, value, /)\n",
      " |      Return self<value.\n",
      " |\n",
      " |  __ne__(self, value, /)\n",
      " |      Return self!=value.\n",
      " |\n",
      " |  __repr__(self, /)\n",
      " |      Return repr(self).\n",
      " |\n",
      " |  ----------------------------------------------------------------------\n",
      " |  Static methods defined here:\n",
      " |\n",
      " |  __new__(*args, **kwargs)\n",
      " |      Create and return a new object.  See help(type) for accurate signature.\n",
      "\n"
     ]
    }
   ],
   "execution_count": 3
  },
  {
   "cell_type": "markdown",
   "id": "ce7165ac",
   "metadata": {},
   "source": [
    "### Task 2.17"
   ]
  },
  {
   "cell_type": "markdown",
   "id": "586b884b",
   "metadata": {},
   "source": [
    "Grundlage bildet wiederum `people`: Gesucht ist diese Ausgabe:\n",
    "````python\n",
    "Max ist 22 Jahre alt\n",
    "Anna ist 25 Jahre alt\n",
    "Tom ist 30 Jahre alt\n",
    "````"
   ]
  }
 ],
 "metadata": {
  "kernelspec": {
   "display_name": "Python 3 (ipykernel)",
   "language": "python",
   "name": "python3"
  },
  "language_info": {
   "codemirror_mode": {
    "name": "ipython",
    "version": 3
   },
   "file_extension": ".py",
   "mimetype": "text/x-python",
   "name": "python",
   "nbconvert_exporter": "python",
   "pygments_lexer": "ipython3",
   "version": "3.12.4"
  }
 },
 "nbformat": 4,
 "nbformat_minor": 5
}
