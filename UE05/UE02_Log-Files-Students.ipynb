{
 "cells": [
  {
   "cell_type": "markdown",
   "id": "f84980bf",
   "metadata": {},
   "source": [
    "## Analyse von Firewall-Logeinträgen\n",
    "\n",
    "Grundlage bildet das ZIP File *syslog.zip*, das Logeinträge einer Firewall enthält. Jede Zeile im Logfile dokumentiert einen sicherheitsrelevanten Vorfall. Ereignisse, die von der Firewall protokolliert wurden, sind durch den Tag `[UFW ...]` gekennzeichnet. Blockierte Netzwerkpakete werden explizit mit `[UFW BLOCK]` markiert. Der Parameter `SRC=` gibt in diesen Fällen die IP-Adresse an, von der das blockierte Datenpaket gesendet wurde.\n",
    "\n",
    "Auszug aus der *syslog*:\n",
    "````text\n",
    "Jul  6 06:25:29 localhost kernel: [2577529.516853] [UFW BLOCK] IN=eth0 OUT= MAC=00:1b:c6:41:6f:e2:00:1b:c6:10:dc:02:08:00 SRC=195.54.160.155 DST=10.214.99.141 LEN=40 TOS=0x00 PREC=0x00 TTL=249 ID=32829 PROTO=TCP SPT=55025 DPT=701 WINDOW=1024 RES=0x00 SYN URGP=0 \n",
    "Jul  6 06:25:52 localhost kernel: [2577552.314403] [UFW BLOCK] IN=eth0 OUT= MAC=00:1b:c6:41:6f:e2:00:1b:c6:10:dc:02:08:00 SRC=80.82.65.74 DST=10.214.99.141 LEN=40 TOS=0x00 PREC=0x00 TTL=250 ID=18191 PROTO=TCP SPT=49954 DPT=6041 WINDOW=1024 RES=0x00 SYN URGP=0 \n",
    "````\n",
    "\n",
    "> **Hinweis**: Wenn möglich, setzen Sie eine *List Comprehension* ein.\n",
    "\n",
    "### Task 1\n",
    "Laden Sie das ZIP file mithilfe des Moduls `zipfile` (siehe https://docs.python.org/3/library/zipfile.html#zipfile.ZipFile.open), entpacken Sie dieses (auf Code-Ebene) und geben Sie die ersten 2 Einträge aus (siehe oben).  "
   ]
  },
  {
   "metadata": {
    "ExecuteTime": {
     "end_time": "2024-10-17T13:36:24.764436Z",
     "start_time": "2024-10-17T13:36:24.749768Z"
    }
   },
   "cell_type": "code",
   "source": [
    "from zipfile import ZipFile\n",
    "\n",
    "# your code\n",
    "with ZipFile(\"logfile.zip\", \"r\") as zip:\n",
    "    with zip.open(\"syslog.log\", \"r\") as file:\n",
    "       log = file.readlines()\n",
    "log = [line.decode() for line in log]\n",
    "        "
   ],
   "id": "bf41853e",
   "outputs": [],
   "execution_count": 12
  },
  {
   "cell_type": "markdown",
   "id": "d9959b39",
   "metadata": {},
   "source": [
    "### Task 2\n",
    "Über wie viele Einträge verfügt die Log-Datei?"
   ]
  },
  {
   "cell_type": "code",
   "id": "935b9cf4",
   "metadata": {
    "ExecuteTime": {
     "end_time": "2024-10-17T13:37:04.457852Z",
     "start_time": "2024-10-17T13:37:04.453838Z"
    }
   },
   "source": [
    "\n",
    "         \n",
    "print(len(log))"
   ],
   "outputs": [
    {
     "name": "stdout",
     "output_type": "stream",
     "text": [
      "6677\n"
     ]
    }
   ],
   "execution_count": 14
  },
  {
   "cell_type": "markdown",
   "id": "010bac65",
   "metadata": {},
   "source": [
    "### Task 3\n",
    "Wie viele Einträge weisen den Status \"geblockt\" auf?"
   ]
  },
  {
   "metadata": {},
   "cell_type": "markdown",
   "source": "",
   "id": "88c62b4d62513c4e"
  },
  {
   "metadata": {
    "ExecuteTime": {
     "end_time": "2024-10-17T13:38:35.832417Z",
     "start_time": "2024-10-17T13:38:35.827645Z"
    }
   },
   "cell_type": "code",
   "outputs": [
    {
     "name": "stdout",
     "output_type": "stream",
     "text": [
      "6191\n"
     ]
    }
   ],
   "execution_count": 17,
   "source": [
    "\n",
    "print(len([entry for entry in log if '[UFW BLOCK]' in entry]))"
   ],
   "id": "ed031c63"
  },
  {
   "cell_type": "markdown",
   "id": "349334e1",
   "metadata": {},
   "source": [
    "### Task 4\n",
    "Wie viele Pakete stammen von der IP Adresse 94.102.51.28?"
   ]
  },
  {
   "cell_type": "code",
   "id": "4b81a4f0",
   "metadata": {
    "ExecuteTime": {
     "end_time": "2024-10-17T13:39:03.879577Z",
     "start_time": "2024-10-17T13:39:03.874326Z"
    }
   },
   "source": "print(len([entry for entry in log if '94.102.51.28' in entry]))",
   "outputs": [
    {
     "name": "stdout",
     "output_type": "stream",
     "text": [
      "334\n"
     ]
    }
   ],
   "execution_count": 18
  }
 ],
 "metadata": {
  "kernelspec": {
   "display_name": "Python 3 (ipykernel)",
   "language": "python",
   "name": "python3"
  },
  "language_info": {
   "codemirror_mode": {
    "name": "ipython",
    "version": 3
   },
   "file_extension": ".py",
   "mimetype": "text/x-python",
   "name": "python",
   "nbconvert_exporter": "python",
   "pygments_lexer": "ipython3",
   "version": "3.11.5"
  }
 },
 "nbformat": 4,
 "nbformat_minor": 5
}
