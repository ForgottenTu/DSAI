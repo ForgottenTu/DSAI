{
 "cells": [
  {
   "cell_type": "markdown",
   "id": "59d56e68",
   "metadata": {},
   "source": [
    "## Klassifikation von E-Mails als Spam oder Ham\n",
    "\n",
    "In dieser Übung entwickelst du ein einfaches Klassifikationsmodell, das **Spam-E-Mails** von normalen E-Mails (sogenanntem „Ham“) unterscheidet. Dabei analysieren wir den Inhalt der E-Mails anhand **einfacher Schlüsselwörter** (wie dollar, offer etc.)  und prüfen, ob eine E-Mail Spam ist oder nicht. Die Übung besteht aus mehreren Schritten, damit du dein Ergebnis schrittweise überprüfen kannst. Verwende dabei grundlegende Python-Techniken wie Dateioperationen, Kontrollstrukturen, Schleifen etc. ohne externe Bibliotheken.\n",
    "\n",
    "### Task 1: E-Mail-Inhalte einlesen\n",
    "\n",
    "Zuerst lesen wir die E-Mails aus den Verzeichnissen für Spam- und Ham-Mails ein. Die E-Mails liegen in Textdateien in den Ordnern `./spam` (für Spam) und `./easy_ham` (für Ham). Deine erste Aufgabe besteht darin, die Inhalte der E-Mails aus diesen Dateien zu extrahieren. Dazu musst du die Funktion `get_email_content` implementieren, die in der Funktion `read_emails` verwendet wird. Die Aufgabe gilt als erfolgreich gelöst, wenn die zwei *Asserts* fehlerfrei durchlaufen.\n",
    "\n",
    "Der Datensatz verfügt über \n",
    "- 500 Spam Mails und \n",
    "- 2500 Ham Mails.\n",
    "\n",
    "#### Beschreibung der zu implementierenden Funktion `get_email_content`:\n",
    "\n",
    "1. **Öffnen der Datei**: \n",
    "   - Die Funktion erhält den Pfad zu einer E-Mail-Datei und öffnet diese im Lesemodus mit der Kodierung \"iso-8859-1\".\n",
    "\n",
    "2. **Lesen des Inhalts**: \n",
    "   - Der gesamte Inhalt der Datei wird mit `read()` in die Variable `email` eingelesen.\n",
    "\n",
    "3. **Aufteilen des Inhalts**: \n",
    "   - Der Inhalt wird anhand des ersten Auftretens von zwei aufeinanderfolgenden Zeilenumbrüchen (`\"\\n\\n\"`) in zwei Teile (Header und Text) aufgeteilt. `split(\"\\n\\n\", 1)` is your friend! Wir sind am Text interessiert!\n",
    "\n",
    "4. **Prüfen der Aufteilung**: \n",
    "   - Wenn die E-Mail in genau zwei Teile aufgeteilt werden kann, wird der Text zurückgegeben.\n",
    "   - Andernfalls gibt die Funktion `None` zurück, was anzeigt, dass die E-Mail-Struktur ungültig ist.\n",
    "\n",
    "Zusammengefasst: Die Funktion extrahiert den Text einer E-Mail und gibt ihn zurück, oder `None`, wenn die Struktur nicht korrekt ist."
   ]
  },
  {
   "cell_type": "code",
   "id": "a3bbb83f",
   "metadata": {
    "ExecuteTime": {
     "end_time": "2024-10-17T14:26:57.999513Z",
     "start_time": "2024-10-17T14:26:57.994325Z"
    }
   },
   "source": [
    "import os\n",
    "\n",
    "def get_email_content(path):\n",
    "    with open(path, \"r\", encoding=\"iso-8859-1\") as mail_file:\n",
    "        for email in mail_file:\n",
    "            email = mail_file.read().split(\"\\n\\n\", 1)\n",
    "            if(email != None):\n",
    "                emailBodies = email[]\n",
    "    emailBodies                \n",
    "    \n",
    "        \n",
    "def read_emails(folder):\n",
    "    contents = []\n",
    "    for f in os.listdir(folder):\n",
    "        complete_path = folder + \"/\" + f\n",
    "        # print(complete_path)\n",
    "        if os.path.isdir(complete_path):\n",
    "            continue\n",
    "        email_content = get_email_content(complete_path)\n",
    "        if email_content != None:\n",
    "            contents.append(email_content)\n",
    "    return contents"
   ],
   "outputs": [],
   "execution_count": 4
  },
  {
   "cell_type": "markdown",
   "id": "a166bdf4",
   "metadata": {},
   "source": [
    "#### Funktion testen\n",
    "**Hinweis**: Die Variablen `spam_mails` und `ham_mails` nicht in einer Zelle initialisieren. Das würde eine IO-Warning verursachen und die Ausführung abbrechen!"
   ]
  },
  {
   "cell_type": "code",
   "id": "cf1dff6f",
   "metadata": {
    "ExecuteTime": {
     "end_time": "2024-10-17T14:27:13.984542Z",
     "start_time": "2024-10-17T14:27:13.921318Z"
    }
   },
   "source": "spam_mails = read_emails(\"./mails/spam\")",
   "outputs": [
    {
     "ename": "IndexError",
     "evalue": "list index out of range",
     "output_type": "error",
     "traceback": [
      "\u001B[1;31m---------------------------------------------------------------------------\u001B[0m",
      "\u001B[1;31mIndexError\u001B[0m                                Traceback (most recent call last)",
      "Cell \u001B[1;32mIn[5], line 1\u001B[0m\n\u001B[1;32m----> 1\u001B[0m spam_mails \u001B[38;5;241m=\u001B[39m read_emails(\u001B[38;5;124m\"\u001B[39m\u001B[38;5;124m./mails/spam\u001B[39m\u001B[38;5;124m\"\u001B[39m)\n",
      "Cell \u001B[1;32mIn[4], line 17\u001B[0m, in \u001B[0;36mread_emails\u001B[1;34m(folder)\u001B[0m\n\u001B[0;32m     15\u001B[0m \u001B[38;5;28;01mif\u001B[39;00m os\u001B[38;5;241m.\u001B[39mpath\u001B[38;5;241m.\u001B[39misdir(complete_path):\n\u001B[0;32m     16\u001B[0m     \u001B[38;5;28;01mcontinue\u001B[39;00m\n\u001B[1;32m---> 17\u001B[0m email_content \u001B[38;5;241m=\u001B[39m get_email_content(complete_path)\n\u001B[0;32m     18\u001B[0m \u001B[38;5;28;01mif\u001B[39;00m email_content \u001B[38;5;241m!=\u001B[39m \u001B[38;5;28;01mNone\u001B[39;00m:\n\u001B[0;32m     19\u001B[0m     contents\u001B[38;5;241m.\u001B[39mappend(email_content)\n",
      "Cell \u001B[1;32mIn[4], line 7\u001B[0m, in \u001B[0;36mget_email_content\u001B[1;34m(path)\u001B[0m\n\u001B[0;32m      5\u001B[0m     email \u001B[38;5;241m=\u001B[39m mail_file\u001B[38;5;241m.\u001B[39mread()\u001B[38;5;241m.\u001B[39msplit(\u001B[38;5;124m\"\u001B[39m\u001B[38;5;130;01m\\n\u001B[39;00m\u001B[38;5;130;01m\\n\u001B[39;00m\u001B[38;5;124m\"\u001B[39m, \u001B[38;5;241m1\u001B[39m)\n\u001B[0;32m      6\u001B[0m \u001B[38;5;28;01mif\u001B[39;00m(email \u001B[38;5;241m!=\u001B[39m \u001B[38;5;28;01mNone\u001B[39;00m):\n\u001B[1;32m----> 7\u001B[0m     \u001B[38;5;28;01mreturn\u001B[39;00m email[\u001B[38;5;241m1\u001B[39m]\n",
      "\u001B[1;31mIndexError\u001B[0m: list index out of range"
     ]
    }
   ],
   "execution_count": 5
  },
  {
   "cell_type": "code",
   "execution_count": 25,
   "id": "bbb28fff",
   "metadata": {},
   "outputs": [],
   "source": [
    "ham_mails = read_emails(\"./easy_ham\")"
   ]
  },
  {
   "cell_type": "code",
   "execution_count": 26,
   "id": "60521221",
   "metadata": {},
   "outputs": [],
   "source": [
    "# Wenn die asserts keinen Fehler ausgeben, ist alles gut!\n",
    "assert len(spam_mails) == 500\n",
    "assert len(ham_mails) == 2500"
   ]
  },
  {
   "cell_type": "markdown",
   "id": "6b7a53af",
   "metadata": {},
   "source": [
    "### Task 2\n",
    "Im zweiten Schritt gilt es nun mit `email_is_spam` jene Funktion zu implementieren, die entscheidet, ob eine E-Mail Spam ist. Das soll basierend auf bestimmten Schlüsselwörtern im Inhalt der E-Mail erfolgen. \n",
    "\n",
    "#### Schritt-für-Schritt-Anleitung für die Implementierung der Funktion `email_is_spam`\n",
    "1. **Definiere die Funktion**\n",
    "- Erstelle eine Funktion namens email_is_spam, die einen Parameter content erwartet. Dieser Parameter repräsentiert den Text einer E-Mail.\n",
    "2. **Schlüsselwörter festlegen**\n",
    "- Die folgenden Wörter sollen verwendet werden, um zu bestimmen, ob die E-Mail Spam ist: \"million\", \"please\", \"offer\", \"dollar\" und \"service\".\n",
    "3. **Logik zur Spam-Erkennung**\n",
    "- Die Funktion sollte die folgenden Bedingungen mittels `if-elif-else` überprüfen:\n",
    "    - Wenn das Wort \"million\" mindestens einmal im E-Mail-Inhalt vorkommt, gib `True` zurück.\n",
    "    - Wenn das Wort \"please\" mindestens zweimal vorkommt, gib ebenfalls `True` zurück.\n",
    "    - Wenn eines der anderen Wörter (\"offer\", \"dollar\", \"service\") mindestens einmal vorkommt, gib `True` zurück.\n",
    "    - Andernfalls gib `False` zurück.\n",
    "- Die Überprüfung soll unabhängig von Groß- und Kleinschreibung erfolgen! \n",
    "#### Verwendung der Funktion `email_is_spam`\n",
    "Jetzt wollen wir herausfinden, wie gut unser Modell in der Funktion `email_is_spam` funktioniert. Im ersten Schritt betrachten wir alle Spam-Mails und prüfen, wie viele von unserem Modell tatsächlich als Spam erkannt werden. Im zweiten Schritt untersuchen wir, ob das Modell fälschlicherweise Ham-Mails als Spam identifiziert. Im Detail:\n",
    "\n",
    "1. **Erstelle zwei leere Listen**\n",
    "    - `spam_detected`: Diese Liste wird die Ergebnisse der Spam-Erkennung für die E-Mails in `spam_mails` speichern.\n",
    "    - `ham_as_spam_detected`: Diese Liste wird die Ergebnisse der Spam-Erkennung für die E-Mails in `ham_mails` speichern.\n",
    "2. **Durchlaufe die Liste der Spam Mails**\n",
    "    - Für jede E-Mail rufst du die Funktion `email_is_spam(mail)` auf, um zu bestimmen, ob die Mail als Spam klassifiziert wird.\n",
    "    - Tipp: Konvertiere das Ergebnis (True/False) in eine Ganzzahl (1 für True, 0 für False) und füge das Ergebnis zur Liste `spam_detected` hinzu.\n",
    "3. **Durchlaufe die Liste der Nicht-Spam Mails**\n",
    "    - Wiederhole den gleichen Prozess für die Liste `ham_mails`, um zu überprüfen, ob E-Mails fälschlicherweise als Spam erkannt werden.\n",
    "    - Sicher das Ergebnis in der Liste `ham_as_spam_detected`\n",
    "4. **Berechne den Anteil der erkannten Spam-E-Mails**\n",
    "    - Du kannst den Anteil der korrekt erkannten Spam-E-Mails berechnen, indem du die Summe der Liste `spam_detected` durch die Anzahl der E-Mails in `spam_mails` teilst. Das geht, weil in der Liste `spam_detected` entweder '1' oder '0' enthalten ist. Und wie wir wissen, steht die '1' für eine durch das Modell klassifizierte Spam-Mail. Gib den Wert in Prozent aus.\n",
    "5. **Berechne den Anteil der fälschlicherweise als Spam erkannten Nicht-Spam-E-Mails**\n",
    "    - Berechne den Anteil, indem du die Summe der Liste `ham_as_spam_detected` durch die Anzahl der E-Mails in `ham_mails` teilst. Gib den Wert in Prozent aus.\n"
   ]
  },
  {
   "cell_type": "code",
   "execution_count": 2,
   "id": "6a690b82",
   "metadata": {},
   "outputs": [],
   "source": [
    "# Your code"
   ]
  }
 ],
 "metadata": {
  "kernelspec": {
   "display_name": "Python 3 (ipykernel)",
   "language": "python",
   "name": "python3"
  },
  "language_info": {
   "codemirror_mode": {
    "name": "ipython",
    "version": 3
   },
   "file_extension": ".py",
   "mimetype": "text/x-python",
   "name": "python",
   "nbconvert_exporter": "python",
   "pygments_lexer": "ipython3",
   "version": "3.11.5"
  }
 },
 "nbformat": 4,
 "nbformat_minor": 5
}
