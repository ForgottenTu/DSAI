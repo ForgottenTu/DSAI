{
 "cells": [
  {
   "cell_type": "markdown",
   "id": "dd9cde39",
   "metadata": {},
   "source": [
    "# UE02 Python Funktionen - Aufgaben \n",
    "\n",
    "## Aufgabe 02.4.1\n",
    "Implementieren Sie die Funktion *celsius_to_fahrenheit*, die eine Temperatur von Celsius in Fahrenheit umrechnen kann. Hierfür benötigen Sie folgende Formel °F = °C * 1.8 + 32"
   ]
  },
  {
   "cell_type": "code",
   "id": "0264e98d",
   "metadata": {
    "ExecuteTime": {
     "end_time": "2024-10-10T13:22:49.528461Z",
     "start_time": "2024-10-10T13:22:49.525423Z"
    }
   },
   "source": [
    "# Your code...\n",
    "\n",
    "def celsius_to_fahrenheit(temp):\n",
    "    return temp*1.8+32\n"
   ],
   "outputs": [],
   "execution_count": 2
  },
  {
   "metadata": {
    "ExecuteTime": {
     "end_time": "2024-10-10T13:22:59.382682Z",
     "start_time": "2024-10-10T13:22:59.379808Z"
    }
   },
   "cell_type": "code",
   "source": "print(celsius_to_fahrenheit(32))",
   "id": "4aa7f0f3c744558d",
   "outputs": [
    {
     "name": "stdout",
     "output_type": "stream",
     "text": [
      "89.6\n"
     ]
    }
   ],
   "execution_count": 4
  },
  {
   "cell_type": "markdown",
   "id": "8a42469e",
   "metadata": {},
   "source": [
    "## Aufgabe 02.4.2\n",
    "Wir sind an der Häufigkeit von bestimmten Wörtern in einem Text interessiert. Implementiere eine Funktion *count_words*, die folgende Parameter übergeben bekommt:\n",
    "- `text`: Das ist der gesamte Text\n",
    "- `pattern`: Wort, nachdem gesucht werden soll\n",
    "\n",
    "Diese Funktion soll dann die Häufigkeit retournieren, wie oft `pattern` in String `text` enthalten ist. Bspw. sollte dieser Aufruf als Ergebnis die Zahl 3 liefern:\n",
    "````python\n",
    "count_words(\"hallo hallo Hallo Welt\", \"Hallo\")\n",
    "````\n",
    "\n",
    "**Wichtig**: Hierbei soll Groß- und Kleinschreibung ignoriert werden, du kannst hierfür die `.lower()`-Funktion verwenden.\n",
    "\n",
    "Als Arbeitsgrundlage ist der Text von Faust (https://www.gutenberg.org/cache/epub/2229/pg2229.txt, Download siehe Lehre-Plattform) zu verwenden. Ermittle, wie oft die Wörter \"Faust\", \"Gretchen\" und \"Mephisto\" im Text vorkommen. Wie man eine txt-Datei einliest, ist hier dokumentiert: https://docs.python.org/3/tutorial/inputoutput.html#reading-and-writing-files Im Prinzip wie bei einer CSV mit `with open(...) as file:`. Library muss keine eingebunden werden.\n",
    "\n",
    "**Hinweise**: \n",
    "- Die Lizenzhinweise mit am Anfang des Buches/Textes zählen wir jetzt mal mit zum Buch.\n",
    "- Mit `.count('xy')` wird ausgegeben, wie oft der Teilstring xy in einem String vorkommt. Achtung: Diese Funktion unterscheidet zwischen Groß- und Kleinschreibung!"
   ]
  },
  {
   "cell_type": "code",
   "id": "541b70ec",
   "metadata": {
    "ExecuteTime": {
     "end_time": "2024-10-10T13:45:30.959360Z",
     "start_time": "2024-10-10T13:45:30.952427Z"
    }
   },
   "source": [
    "def count_words(pattern, text):\n",
    "    results = []\n",
    "    for word in pattern:\n",
    "        results.append((word, text.count(word)))      \n",
    "    return results"
   ],
   "outputs": [],
   "execution_count": 14
  },
  {
   "cell_type": "code",
   "id": "36d6d557",
   "metadata": {
    "ExecuteTime": {
     "end_time": "2024-10-10T13:46:13.845753Z",
     "start_time": "2024-10-10T13:46:13.827757Z"
    }
   },
   "source": [
    "searched = [\"faust\", \"gretchen\", \"mephisto\"]\n",
    "\n",
    "with open(\"../UE4/faust.txt\", \"r\") as file:\n",
    "    text = file.read().lower()\n",
    "\n",
    "print(count_words(searched,text))"
   ],
   "outputs": [
    {
     "name": "stdout",
     "output_type": "stream",
     "text": [
      "[('faust', 278), ('gretchen', 39), ('mephisto', 284)]\n"
     ]
    }
   ],
   "execution_count": 15
  }
 ],
 "metadata": {
  "kernelspec": {
   "display_name": "Python 3 (ipykernel)",
   "language": "python",
   "name": "python3"
  },
  "language_info": {
   "codemirror_mode": {
    "name": "ipython",
    "version": 3
   },
   "file_extension": ".py",
   "mimetype": "text/x-python",
   "name": "python",
   "nbconvert_exporter": "python",
   "pygments_lexer": "ipython3",
   "version": "3.11.5"
  }
 },
 "nbformat": 4,
 "nbformat_minor": 5
}
