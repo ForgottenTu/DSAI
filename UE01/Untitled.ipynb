{
 "cells": [
  {
   "cell_type": "code",
   "execution_count": null,
   "id": "fc15b8f2-b147-485a-a1a2-ad1b52ddca7b",
   "metadata": {},
   "outputs": [],
   "source": [
    "word = \"Hello World\""
   ]
  },
  {
   "cell_type": "markdown",
   "id": "44dea08b-630c-4fc7-a331-f1181f24bd46",
   "metadata": {},
   "source": [
    "# Hello World\n",
    "\n",
    "text\n",
    "-Aufzählung 1\n",
    "-Aufzählung 2\n",
    "\n",
    "*Kursiv*\n",
    "**Fett**\n",
    "1. erstens\n",
    "2. zweitens\n",
    "3. drittens\n",
    "\n",
    "````python\n",
    "print(\"hello world\")\n",
    "````\n",
    ">Text\n",
    "\n"
   ]
  }
 ],
 "metadata": {
  "kernelspec": {
   "display_name": "Python 3 (ipykernel)",
   "language": "python",
   "name": "python3"
  },
  "language_info": {
   "codemirror_mode": {
    "name": "ipython",
    "version": 3
   },
   "file_extension": ".py",
   "mimetype": "text/x-python",
   "name": "python",
   "nbconvert_exporter": "python",
   "pygments_lexer": "ipython3",
   "version": "3.12.4"
  }
 },
 "nbformat": 4,
 "nbformat_minor": 5
}
